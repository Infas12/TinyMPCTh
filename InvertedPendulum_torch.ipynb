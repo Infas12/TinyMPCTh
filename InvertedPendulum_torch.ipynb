{
 "cells": [
  {
   "cell_type": "code",
   "execution_count": 1,
   "metadata": {},
   "outputs": [],
   "source": [
    "import gymnasium as gym\n",
    "from tinympc.tinympc_torch import MPCSolver, LinearDynamics, LinearCost, LinearConstraints\n",
    "import numpy as np\n",
    "import torch"
   ]
  },
  {
   "cell_type": "code",
   "execution_count": 2,
   "metadata": {},
   "outputs": [
    {
     "name": "stderr",
     "output_type": "stream",
     "text": [
      "/home/infas12/anaconda3/envs/robo831/lib/python3.8/site-packages/gymnasium/core.py:311: UserWarning: \u001b[33mWARN: env.state to get variables from other wrappers is deprecated and will be removed in v1.0, to get this variable you can do `env.unwrapped.state` for environment variables or `env.get_wrapper_attr('state')` that will search the reminding wrappers.\u001b[0m\n",
      "  logger.warn(\n"
     ]
    },
    {
     "name": "stdout",
     "output_type": "stream",
     "text": [
      "Kinf: \n",
      " tensor([[[153.3789,   8.8608]]])\n",
      "Pinf: \n",
      " tensor([[[33236.0312,  1917.6387],\n",
      "         [ 1917.6392,   111.6657]]])\n"
     ]
    }
   ],
   "source": [
    "env = gym.make('Pendulum-v1', render_mode=\"human\")\n",
    "observation, info = env.reset()\n",
    "env.state[0] = -0.2\n",
    "\n",
    "g = 10\n",
    "m = 1\n",
    "l = 1\n",
    "\n",
    "dt = 0.05\n",
    "N = 10\n",
    "num_envs = 1\n",
    "\n",
    "A = torch.tensor([[1, dt], [3 * g / (2 * l), 1]]).unsqueeze(0).repeat(num_envs,1,1)\n",
    "B = torch.tensor([[0],[3./(m*l**2)*dt]]).unsqueeze(0).repeat(num_envs,1,1)\n",
    "dyn = LinearDynamics(A,B)\n",
    "\n",
    "Q = torch.eye(2).unsqueeze(0).repeat(num_envs,1,1)\n",
    "R = torch.eye(1).unsqueeze(0).repeat(num_envs,1,1)\n",
    "Qf = torch.eye(2).unsqueeze(0).repeat(num_envs,1,1)\n",
    "cost = LinearCost(Q,R,Qf)\n",
    "\n",
    "\n",
    "xlb = torch.ones((2,1)).unsqueeze(0).repeat(num_envs,1,1) * -0.2\n",
    "xub = torch.ones((2,1)).unsqueeze(0).repeat(num_envs,1,1) * 0.2\n",
    "ulb = torch.ones((1,1)).unsqueeze(0).repeat(num_envs,1,1) * -2\n",
    "uub = torch.ones((1,1)).unsqueeze(0).repeat(num_envs,1,1) * 2\n",
    "constraints = LinearConstraints(xlb,xub,ulb,uub)\n",
    "\n",
    "mpc = MPCSolver(dyn, cost, constraints, N, 0.001, num_envs, 'cpu')\n",
    "\n",
    "\n",
    "for i in range(1000):\n",
    "    action = env.action_space.sample()  # agent policy that uses the observation and info\n",
    "\n",
    "    x0 = env.state.copy()\n",
    "    xref = np.zeros((2,N))\n",
    "\n",
    "    x0 = torch.tensor(x0).reshape(2,1)\n",
    "    x0 = x0.unsqueeze(0).repeat(num_envs,1,1)\n",
    "    xref =  torch.tensor(xref).unsqueeze(0).repeat(num_envs,1,1)\n",
    "\n",
    "    mpc.solve(xref,x0)\n",
    "    action = mpc.u[0,:,0].numpy()\n",
    "\n",
    "    observation, reward, terminated, truncated, info = env.step(action)\n",
    "\n",
    "    if terminated or truncated:\n",
    "        break\n",
    "\n",
    "env.close()"
   ]
  }
 ],
 "metadata": {
  "kernelspec": {
   "display_name": "robo831",
   "language": "python",
   "name": "python3"
  },
  "language_info": {
   "codemirror_mode": {
    "name": "ipython",
    "version": 3
   },
   "file_extension": ".py",
   "mimetype": "text/x-python",
   "name": "python",
   "nbconvert_exporter": "python",
   "pygments_lexer": "ipython3",
   "version": "3.8.18"
  }
 },
 "nbformat": 4,
 "nbformat_minor": 2
}
