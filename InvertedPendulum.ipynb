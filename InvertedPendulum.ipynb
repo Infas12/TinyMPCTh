{
 "cells": [
  {
   "cell_type": "code",
   "execution_count": 7,
   "metadata": {},
   "outputs": [],
   "source": [
    "import gymnasium as gym\n",
    "from tinympc.tinympc_np import MPCSolver, LinearDynamics, LinearCost, LinearConstraints\n",
    "import numpy as np"
   ]
  },
  {
   "cell_type": "code",
   "execution_count": 8,
   "metadata": {},
   "outputs": [
    {
     "name": "stdout",
     "output_type": "stream",
     "text": [
      "Kinf: \n",
      " [[153.37896779   8.86077684]]\n",
      "Pinf: \n",
      " [[33236.02889619  1917.63863941]\n",
      " [ 1917.63863941   111.66566133]]\n"
     ]
    }
   ],
   "source": [
    "env = gym.make('Pendulum-v1', render_mode=\"human\")\n",
    "observation, info = env.reset()\n",
    "env.state[0] = 0.2\n",
    "\n",
    "g = 10\n",
    "m = 1\n",
    "l = 1\n",
    "\n",
    "dt = 0.05\n",
    "N = 20\n",
    "dyn = LinearDynamics(np.array([[1, dt], \n",
    "                               [3 * g / (2 * l), 1]]), \n",
    "                    np.array([[0], \n",
    "                              [3./(m*l**2)*dt]]))\n",
    "cost = LinearCost(np.eye(2), \n",
    "                  np.eye(1), \n",
    "                  np.eye(2))\n",
    "constraints = LinearConstraints(-np.ones((2,1)) * 0.2, \n",
    "                                 np.ones((2,1)) * 0.2, \n",
    "                                -np.ones((1,1)) * 2, \n",
    "                                 np.ones((1,1)) * 2)\n",
    "\n",
    "mpc = MPCSolver(dyn, cost, constraints, N, 0.001)\n",
    "\n",
    "\n",
    "for i in range(1000):\n",
    "    action = env.action_space.sample()  # agent policy that uses the observation and info\n",
    "\n",
    "    x0 = env.state\n",
    "    xref = np.zeros((2,N))\n",
    "\n",
    "    mpc.solve(xref,x0)\n",
    "    action = mpc.u[:,0]\n",
    "\n",
    "    observation, reward, terminated, truncated, info = env.step(action)\n",
    "\n",
    "    if terminated or truncated:\n",
    "        break\n",
    "\n",
    "env.close()"
   ]
  }
 ],
 "metadata": {
  "kernelspec": {
   "display_name": "robo831",
   "language": "python",
   "name": "python3"
  },
  "language_info": {
   "codemirror_mode": {
    "name": "ipython",
    "version": 3
   },
   "file_extension": ".py",
   "mimetype": "text/x-python",
   "name": "python",
   "nbconvert_exporter": "python",
   "pygments_lexer": "ipython3",
   "version": "3.8.18"
  }
 },
 "nbformat": 4,
 "nbformat_minor": 2
}
