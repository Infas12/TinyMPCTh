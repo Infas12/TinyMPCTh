{
 "cells": [
  {
   "cell_type": "code",
   "execution_count": 1,
   "metadata": {},
   "outputs": [
    {
     "ename": "ImportError",
     "evalue": "attempted relative import with no known parent package",
     "output_type": "error",
     "traceback": [
      "\u001b[0;31m---------------------------------------------------------------------------\u001b[0m",
      "\u001b[0;31mImportError\u001b[0m                               Traceback (most recent call last)",
      "Cell \u001b[0;32mIn[1], line 2\u001b[0m\n\u001b[1;32m      1\u001b[0m \u001b[38;5;28;01mimport\u001b[39;00m \u001b[38;5;21;01mgymnasium\u001b[39;00m \u001b[38;5;28;01mas\u001b[39;00m \u001b[38;5;21;01mgym\u001b[39;00m\n\u001b[0;32m----> 2\u001b[0m \u001b[38;5;28;01mfrom\u001b[39;00m \u001b[38;5;21;01m.\u001b[39;00m\u001b[38;5;21;01mtinympc\u001b[39;00m\u001b[38;5;21;01m.\u001b[39;00m\u001b[38;5;21;01mtinympc_torch\u001b[39;00m \u001b[38;5;28;01mimport\u001b[39;00m MPCSolver, LinearDynamics, LinearCost, LinearConstraints, MPCParams\n\u001b[1;32m      3\u001b[0m \u001b[38;5;28;01mimport\u001b[39;00m \u001b[38;5;21;01mnumpy\u001b[39;00m \u001b[38;5;28;01mas\u001b[39;00m \u001b[38;5;21;01mnp\u001b[39;00m\n\u001b[1;32m      4\u001b[0m \u001b[38;5;28;01mimport\u001b[39;00m \u001b[38;5;21;01mtorch\u001b[39;00m\n",
      "\u001b[0;31mImportError\u001b[0m: attempted relative import with no known parent package"
     ]
    }
   ],
   "source": [
    "import gymnasium as gym\n",
    "from ..tinympc.tinympc_torch import MPCSolver, LinearDynamics, LinearCost, LinearConstraints, MPCParams\n",
    "import numpy as np\n",
    "import torch"
   ]
  },
  {
   "cell_type": "code",
   "execution_count": null,
   "metadata": {},
   "outputs": [
    {
     "name": "stdout",
     "output_type": "stream",
     "text": [
      "Kinf: \n",
      " tensor([[[153.3790,   8.8608]]])\n",
      "Pinf: \n",
      " tensor([[[33236.0234,  1917.6387],\n",
      "         [ 1917.6392,   111.6657]]])\n"
     ]
    }
   ],
   "source": [
    "# environment infomation\n",
    "# gym vecsenv does not support setting the initial state, so only 1 env is used\n",
    "env = gym.make('Pendulum-v1', render_mode=\"human\")\n",
    "observation, info = env.reset()\n",
    "env.state[0] = -0.2\n",
    "num_envs = 1\n",
    "\n",
    "# system dynamics\n",
    "g = 10\n",
    "m = 1\n",
    "l = 1\n",
    "dt = 0.05\n",
    "A = torch.tensor([[1, dt], [3 * g / (2 * l), 1]]).unsqueeze(0).repeat(num_envs,1,1)\n",
    "B = torch.tensor([[0],[3./(m*l**2)*dt]]).unsqueeze(0).repeat(num_envs,1,1)\n",
    "dyn = LinearDynamics(A,B)\n",
    "\n",
    "# cost function\n",
    "Q = torch.eye(2).unsqueeze(0).repeat(num_envs,1,1)\n",
    "R = torch.eye(1).unsqueeze(0).repeat(num_envs,1,1)\n",
    "Qf = torch.eye(2).unsqueeze(0).repeat(num_envs,1,1)\n",
    "cost = LinearCost(Q,R,Qf)\n",
    "\n",
    "# constraints\n",
    "xlb = torch.ones((2,1)).unsqueeze(0).repeat(num_envs,1,1) * -0.2\n",
    "xub = torch.ones((2,1)).unsqueeze(0).repeat(num_envs,1,1) * 0.2\n",
    "ulb = torch.ones((1,1)).unsqueeze(0).repeat(num_envs,1,1) * -2\n",
    "uub = torch.ones((1,1)).unsqueeze(0).repeat(num_envs,1,1) * 2\n",
    "constraints = LinearConstraints(xlb,xub,ulb,uub)\n",
    "\n",
    "# solver parameters\n",
    "mpcsteps = 10\n",
    "MPC_params = MPCParams(mpc_steps=mpcsteps, \n",
    "                       rho=0.001, \n",
    "                       recatti_iter=5000, \n",
    "                       mpc_max_iter=100)\n",
    "\n",
    "\n",
    "# initialize solver\n",
    "mpc = MPCSolver(dyn=dyn, cost=cost, constraints=constraints, params=MPC_params, num_envs=num_envs, device='cpu')\n",
    "\n",
    "\n",
    "for i in range(1000):\n",
    "\n",
    "    x0 = env.state.copy()\n",
    "    xref = np.zeros((2,mpcsteps))\n",
    "\n",
    "    x0 = torch.tensor(x0).reshape(2,1)\n",
    "    x0 = x0.unsqueeze(0).repeat(num_envs,1,1)\n",
    "    xref =  torch.tensor(xref).unsqueeze(0).repeat(num_envs,1,1)\n",
    "\n",
    "    mpc.solve(xref,x0)\n",
    "    action = mpc.u[0,:,0].numpy()\n",
    "\n",
    "    observation, reward, terminated, truncated, info = env.step(action)\n",
    "\n",
    "    if terminated or truncated:\n",
    "        break\n",
    "\n",
    "env.close()"
   ]
  }
 ],
 "metadata": {
  "kernelspec": {
   "display_name": "robo831",
   "language": "python",
   "name": "python3"
  },
  "language_info": {
   "codemirror_mode": {
    "name": "ipython",
    "version": 3
   },
   "file_extension": ".py",
   "mimetype": "text/x-python",
   "name": "python",
   "nbconvert_exporter": "python",
   "pygments_lexer": "ipython3",
   "version": "3.8.18"
  }
 },
 "nbformat": 4,
 "nbformat_minor": 2
}
